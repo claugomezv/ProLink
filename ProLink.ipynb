{
  "cells": [
    {
      "cell_type": "markdown",
      "metadata": {},
      "source": [
        " \n",
        "#<font color='yellow'>***/***</font> ***ProLink*** <font color='yellow'>***/***</font>  \n",
        "\n",
        "2022 @ *Universidad de Zaragoza*\n",
        "\n",
        "For more information please visit https://github.com/unizar-flav/ProLink\n",
        "\n",
        "\n"
      ]
    },
    {
      "cell_type": "code",
      "execution_count": 1,
      "metadata": {
        "id": "XC1R9_cdk55M"
      },
      "outputs": [],
      "source": [
        "#@title Install environment\n",
        "#@markdown Run this cell first and only once! It will install all the dependencies required to run the ProLink package.\n",
        "%%capture\n",
        "\n",
        "import os\n",
        "\n",
        "! apt-get update\n",
        "! wget https://www.megasoftware.net/do_force_download/megax-cc_10.2.6-1_amd64.deb\n",
        "! apt-get install -y ghostscript mash ./megax-cc_10.2.6-1_amd64.deb\n",
        "\n",
        "!wget https://github.com/rcedgar/muscle/releases/download/v5.1/muscle5.1.linux_intel64 \n",
        "! mv /content/muscle5.1.linux_intel64 /content/muscle\n",
        "! chmod +x /content/muscle\n",
        "os.environ['PATH'] += \":/content\"\n",
        "\n",
        "! wget https://github.com/soedinglab/MMseqs2/releases/download/14-7e284/mmseqs-linux-avx2.tar.gz\n",
        "! tar -xzf mmseqs-linux-avx2.tar.gz\n",
        "os.environ['PATH'] += \":/content/mmseqs/bin\"\n",
        "\n",
        "! git clone https://github.com/unizar-flav/ALFATClust.git\n",
        "os.environ['PATH'] += \":/content/ALFATClust/main\"\n",
        "\n",
        "%pip install biopython python-igraph leidenalg weblogo\n",
        "%pip install git+https://github.com/unizar-flav/ProLink.git\n",
        "\n",
        "from datetime import datetime\n",
        "from google.colab import files\n",
        "from ProLink import pro_link"
      ]
    },
    {
      "cell_type": "code",
      "execution_count": null,
      "metadata": {
        "cellView": "form"
      },
      "outputs": [],
      "source": [
        "#@title Introduce the parameters\n",
        "\n",
        "parameters = dict()\n",
        "\n",
        "#@markdown ----QUERY PROTEINS UNIPROT CODES----\n",
        "query_proteins = \"ABQ62066.1, ABQ62091.1, ABQ62490.1\" #@param {type:\"string\"}\n",
        "\n",
        "#@markdown ----BLAST PARAMETERS----\n",
        "hitlist_range = 5000 #@param {type:\"integer\"}\n",
        "parameters['hitlist_range'] = hitlist_range\n",
        "\n",
        "blast_database = \"Reference Proteins (refseq_protein)\" #@param [\"Non redundant protein sequences (nr)\", \"Reference Proteins (refseq_protein)\", \"Model organisms (landmark)\", \"Protein Data Bank proteins (pdb)\"]\n",
        "parameters['blast_database'] = blast_database.split('(')[1].split(')')[0] # database name between parenthesis\n",
        "\n",
        "pro_blast_ = False #@param {type:\"boolean\"}\n",
        "parameters['pro_blast_'] = pro_blast_\n",
        "\n",
        "#@markdown ----CLUSTERING----\n",
        "cluster_seqs = True #@param {type:\"boolean\"}\n",
        "parameters['cluster_seqs'] = cluster_seqs\n",
        "\n",
        "similarity = 0.5 #@param {type:\"number\"} #Initial similarity treshold to group the sequences into clusters.\n",
        "parameters['similarity'] = similarity\n",
        "\n",
        "pro_clustering_ = True #@param {type:\"boolean\"}\n",
        "parameters['pro_clustering_'] = pro_clustering_\n",
        "\n",
        "#@markdown ----PFAM DOMAINS----\n",
        "check_pfam_domains = True #@param {type:\"boolean\"}\n",
        "parameters['check_pfam_domains'] = check_pfam_domains\n",
        "\n",
        "#@markdown ----ALIGNMENT----\n",
        "align_seqs = True #@param {type:\"boolean\"}\n",
        "parameters['align_seqs'] = align_seqs\n",
        "\n",
        "#@markdown ----SEQUENCE LOGO GENERATION----\n",
        "generate_logo = True #@param {type:\"boolean\"}\n",
        "parameters['generate_logo'] = generate_logo\n",
        "\n",
        "#@markdown ----PHYLOGENETIC TREE GENERATION----\n",
        "generate_tree = True #@param {type:\"boolean\"}\n",
        "parameters['generate_tree'] = generate_tree\n",
        "\n",
        "tree_type = \"NJ\" #@param [\"NJ\", \"ML\"]\n",
        "parameters['tree_type'] = tree_type\n",
        "\n",
        "boostrap_replications = \"250\" #@param [\"100\", \"250\", \"500\", \"1000\", \"2000\", \"5000\"]\n",
        "parameters['boostrap_replications'] = boostrap_replications\n",
        "\n",
        "#@markdown For more advanced options, please feel free to edit the ProLink/parameters.cfg file."
      ]
    },
    {
      "cell_type": "code",
      "execution_count": null,
      "metadata": {
        "cellView": "form"
      },
      "outputs": [],
      "source": [
        "#@title Execute the script\n",
        "#@markdown Running the clustering (This may take a while)\n",
        "\n",
        "download_outputs = True #@param {type:\"boolean\"}\n",
        "\n",
        "now = datetime.now().strftime(\"%Y%m%d-%H.%M.%S\")\n",
        "outputs_dir = f\"outputs_{now}\"\n",
        "outputs_zip = f\"ProLink_{outputs_dir}.zip\"\n",
        "parameters['outputs_dir'] = outputs_dir\n",
        "print(now)\n",
        "print(parameters)\n",
        "\n",
        "pro_link(query_proteins, **parameters)\n",
        "\n",
        "! zip -r $outputs_zip /content/${outputs_dir}\n",
        "if download_outputs:\n",
        "    files.download(outputs_zip)"
      ]
    },
    {
      "cell_type": "code",
      "execution_count": null,
      "metadata": {
        "cellView": "form"
      },
      "outputs": [],
      "source": [
        "#@title (Optional)  Download outputs manually\n",
        "#@markdown Run the cell to download the results as a zip.\n",
        "\n",
        "files.download(outputs_zip)"
      ]
    }
  ],
  "metadata": {
    "colab": {
      "provenance": []
    },
    "gpuClass": "standard",
    "kernelspec": {
      "display_name": "Python 3",
      "language": "python",
      "name": "python3"
    },
    "language_info": {
      "name": "python",
      "version": "3.10.6 (main, Nov 14 2022, 16:10:14) [GCC 11.3.0]"
    },
    "vscode": {
      "interpreter": {
        "hash": "916dbcbb3f70747c44a77c7bcd40155683ae19c65e1c03b4aa3499c5328201f1"
      }
    }
  },
  "nbformat": 4,
  "nbformat_minor": 0
}
