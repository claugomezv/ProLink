{
  "cells": [
    {
      "attachments": {},
      "cell_type": "markdown",
      "metadata": {},
      "source": [
        " \n",
        "#<font color='yellow'>***/***</font> ***ProLink*** <font color='yellow'>***/***</font>  \n",
        "\n",
        "2022-2024 @ *Universidad de Zaragoza*\n",
        "\n",
        "For more information please visit https://github.com/unizar-flav/ProLink\n"
      ]
    },
    {
      "cell_type": "code",
      "execution_count": null,
      "metadata": {
        "cellView": "form"
      },
      "outputs": [],
      "source": [
        "#@title Install environment\n",
        "#@markdown Run this cell first and only once! It will install all the dependencies required to run the ProLink package.\n",
        "%%capture\n",
        "\n",
        "import os\n",
        "\n",
        "!apt-get update\n",
        "!wget https://www.megasoftware.net/do_force_download/megax-cc_10.2.6-1_amd64.deb\n",
        "!apt-get install -y ghostscript mash ncbi-blast+ ./megax-cc_10.2.6-1_amd64.deb\n",
        "\n",
        "!wget -O /content/muscle https://github.com/rcedgar/muscle/releases/download/v5.1/muscle5.1.linux_intel64\n",
        "!chmod +x /content/muscle\n",
        "os.environ['PATH'] += \":/content\"\n",
        "\n",
        "!wget -qO- https://github.com/soedinglab/MMseqs2/releases/download/15-6f452/mmseqs-linux-avx2.tar.gz | tar -xvz\n",
        "os.environ['PATH'] += \":/content/mmseqs/bin\"\n",
        "\n",
        "%pip install git+https://github.com/unizar-flav/ProLink.git\n",
        "\n",
        "# local BLAST databases\n",
        "!mkdir -p /content/blast_db\n",
        "!wget -qO- https://ftp.ncbi.nlm.nih.gov/blast/db/pdbaa.tar.gz | tar -xvz -C /content/blast_db/\n",
        "!wget -qO- https://ftp.ncbi.nlm.nih.gov/blast/db/landmark.tar.gz | tar -xvz -C /content/blast_db/\n",
        "os.environ['BLASTDB'] = '/content/blast_db'\n",
        "blast_db_local = ('pdbaa', 'landmark')\n",
        "\n",
        "import logging\n",
        "from datetime import datetime\n",
        "from google.colab import files\n",
        "from ProLink import pro_link, pro_link_multiple"
      ]
    },
    {
      "cell_type": "code",
      "execution_count": null,
      "metadata": {
        "cellView": "form"
      },
      "outputs": [],
      "source": [
        "#@title Introduce the parameters\n",
        "\n",
        "parameters = dict()\n",
        "\n",
        "#@markdown ----QUERY PROTEINS (PROTEIN SEQUENCE CODES, COMMA SEPARATED)----\n",
        "query_proteins = \"ABQ62066.1, ABQ62091.1, ABQ62490.1\" #@param {type:\"string\"}\n",
        "query_proteins = query_proteins.replace(' ', '').split(',')\n",
        "\n",
        "#@markdown ----BLAST PARAMETERS----\n",
        "hitlist_size = 5000 #@param {type:\"integer\"}\n",
        "parameters['hitlist_size'] = hitlist_size\n",
        "\n",
        "blast_database = \"Reference Proteins (refseq_protein)\" #@param [\"Non redundant protein sequences (nr)\", \"Reference Proteins (refseq_protein)\", \"Model organisms (landmark)\", \"Protein Data Bank proteins (pdbaa)\"]\n",
        "parameters['blast_database'] = blast_database.split('(')[1].split(')')[0] # database name between parenthesis\n",
        "parameters['blast_local'] = parameters['blast_database'] in blast_db_local\n",
        "\n",
        "pro_blast_ = False #@param {type:\"boolean\"}\n",
        "parameters['pro_blast_'] = pro_blast_\n",
        "\n",
        "length_restrict = False #@param {type:\"boolean\"}\n",
        "parameters['length_restrict'] = length_restrict\n",
        "\n",
        "length_margin = 0.5 #@param {type:\"number\"}\n",
        "parameters['length_margin'] = length_margin\n",
        "\n",
        "expected_min_identity = 0.25  # @param {type:\"number\"}\n",
        "parameters['expected_min_identity'] = expected_min_identity\n",
        "\n",
        "#@markdown ----CLUSTERING----\n",
        "cluster_seqs = True #@param {type:\"boolean\"}\n",
        "parameters['cluster_seqs'] = cluster_seqs\n",
        "\n",
        "min_seq_id = 0.6 #@param {type:\"number\"} #Initial minimum sequence identity treshold to group the sequences into clusters.\n",
        "parameters['min_seq_id'] = min_seq_id\n",
        "\n",
        "pro_clustering_ = True #@param {type:\"boolean\"}\n",
        "parameters['pro_clustering_'] = pro_clustering_\n",
        "\n",
        "min_seq_id_step = 0.02 #@param {type:\"number\"} #Step to increase or decrease the minimum sequence identity threshold\n",
        "parameters['min_seq_id_step'] = min_seq_id_step\n",
        "\n",
        "min_number_of_clusters_to_cluster_again = 50 #@param {type:\"integer\"}\n",
        "parameters['min_number_of_clusters_to_cluster_again'] = min_number_of_clusters_to_cluster_again\n",
        "\n",
        "max_number_of_clusters_to_cluster_again = 300 #@param {type:\"integer\"}\n",
        "parameters['max_number_of_clusters_to_cluster_again'] = max_number_of_clusters_to_cluster_again\n",
        "\n",
        "#@markdown ----PFAM DOMAINS----\n",
        "check_pfam_domains = True #@param {type:\"boolean\"}\n",
        "parameters['check_pfam_domains'] = check_pfam_domains\n",
        "\n",
        "#@markdown ----ALIGNMENT----\n",
        "align_seqs = True #@param {type:\"boolean\"}\n",
        "parameters['align_seqs'] = align_seqs\n",
        "\n",
        "trim = False #@param {type:\"boolean\"}\n",
        "parameters['trim'] = trim\n",
        "\n",
        "#@markdown ----SEQUENCE LOGO GENERATION----\n",
        "generate_logo = True #@param {type:\"boolean\"}\n",
        "parameters['generate_logo'] = generate_logo\n",
        "\n",
        "#@markdown ----PHYLOGENETIC TREE GENERATION----\n",
        "generate_tree = True #@param {type:\"boolean\"}\n",
        "parameters['generate_tree'] = generate_tree\n",
        "\n",
        "tree_type = \"NJ\" #@param [\"NJ\", \"ML\"]\n",
        "parameters['tree_type'] = tree_type\n",
        "\n",
        "bootstrap_replications = \"250\" #@param [\"100\", \"250\", \"500\", \"1000\", \"2000\", \"5000\"]\n",
        "parameters['boostrap_replications'] = bootstrap_replications\n",
        "\n",
        "#@markdown For more advanced options, please feel free to edit the ProLink/parameters.yaml file."
      ]
    },
    {
      "cell_type": "code",
      "execution_count": null,
      "metadata": {
        "cellView": "form"
      },
      "outputs": [],
      "source": [
        "#@title Execute the script\n",
        "#@markdown Running the script (This may take a while)\n",
        "\n",
        "extra_verbose = False #@param {type:\"boolean\"}\n",
        "\n",
        "# outputs directory\n",
        "now = datetime.now().strftime(\"%Y%m%d-%H.%M.%S\")\n",
        "outputs_dir = f\"outputs_{now}\"\n",
        "outputs_zip = f\"ProLink_{outputs_dir}.zip\"\n",
        "os.makedirs(f'/content/{outputs_dir}', exist_ok=True)\n",
        "os.chdir(f'/content/{outputs_dir}')\n",
        "\n",
        "# re-configure logging to override colab settings\n",
        "logging.basicConfig(\n",
        "    level = logging.DEBUG if extra_verbose else logging.INFO,\n",
        "    format = '%(message)s',\n",
        "    handlers = [\n",
        "        logging.FileHandler(f'ProLink.log', mode='w'),\n",
        "        logging.StreamHandler()\n",
        "        ],\n",
        "    force = True\n",
        "    )\n",
        "\n",
        "# main script\n",
        "pro_link_multiple(query_proteins, **parameters)"
      ]
    },
    {
      "cell_type": "code",
      "execution_count": null,
      "metadata": {
        "cellView": "form"
      },
      "outputs": [],
      "source": [
        "#@title Download outputs\n",
        "#@markdown Run the cell to download the results as a zip\n",
        "\n",
        "!zip -r ../$outputs_zip *\n",
        "files.download(f\"../{outputs_zip}\")"
      ]
    }
  ],
  "metadata": {
    "colab": {
      "provenance": []
    },
    "gpuClass": "standard",
    "kernelspec": {
      "display_name": "Python 3",
      "language": "python",
      "name": "python3"
    },
    "language_info": {
      "name": "python",
      "version": "3.10.6 (main, Nov 14 2022, 16:10:14) [GCC 11.3.0]"
    },
    "vscode": {
      "interpreter": {
        "hash": "916dbcbb3f70747c44a77c7bcd40155683ae19c65e1c03b4aa3499c5328201f1"
      }
    }
  },
  "nbformat": 4,
  "nbformat_minor": 0
}
