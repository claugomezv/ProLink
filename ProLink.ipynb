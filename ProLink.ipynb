{
  "cells": [
    {
      "cell_type": "markdown",
      "metadata": {
        "id": "view-in-github",
        "colab_type": "text"
      },
      "source": [
        "<a href=\"https://colab.research.google.com/github/claugomezv/ProLink/blob/uniseq/ProLink.ipynb\" target=\"_parent\"><img src=\"https://colab.research.google.com/assets/colab-badge.svg\" alt=\"Open In Colab\"/></a>"
      ]
    },
    {
      "cell_type": "markdown",
      "metadata": {
        "id": "By9ieuIalsoC"
      },
      "source": [
        "\n",
        "#<font color='yellow'>***/***</font> ***ProLink*** <font color='yellow'>***/***</font>  \n",
        "\n",
        "2022-2024 @ *Universidad de Zaragoza*\n",
        "\n",
        "For more information please visit https://github.com/unizar-flav/ProLink\n"
      ]
    },
    {
      "cell_type": "code",
      "execution_count": 44,
      "metadata": {
        "id": "ZHHLB0pPlsoE"
      },
      "outputs": [],
      "source": [
        "#@title Install environment\n",
        "#@markdown Run this cell first and only once! It will install all the dependencies required to run the ProLink package.\n",
        "%%capture\n",
        "\n",
        "import os\n",
        "\n",
        "!apt-get update\n",
        "!wget https://www.megasoftware.net/do_force_download/megax-cc_10.2.6-1_amd64.deb\n",
        "!apt-get install -y ghostscript ncbi-blast+ ./megax-cc_10.2.6-1_amd64.deb\n",
        "\n",
        "!wget -O /content/muscle https://github.com/rcedgar/muscle/releases/download/v5.1/muscle5.1.linux_intel64\n",
        "!chmod +x /content/muscle\n",
        "os.environ['PATH'] += \":/content\"\n",
        "\n",
        "!wget -qO- https://github.com/soedinglab/MMseqs2/releases/download/15-6f452/mmseqs-linux-avx2.tar.gz | tar -xvz\n",
        "os.environ['PATH'] += \":/content/mmseqs/bin\"\n",
        "\n",
        "!git clone --branch uniseq https://github.com/claugomezv/ProLink.git /content/ProLink\n",
        "\n",
        "# local BLAST databases\n",
        "!mkdir -p /content/blast_db\n",
        "!wget -qO- https://ftp.ncbi.nlm.nih.gov/blast/db/pdbaa.tar.gz | tar -xvz -C /content/blast_db/\n",
        "!wget -qO- https://ftp.ncbi.nlm.nih.gov/blast/db/landmark.tar.gz | tar -xvz -C /content/blast_db/\n",
        "os.environ['BLASTDB'] = '/content/blast_db'\n",
        "blast_db_local = ('pdbaa', 'landmark')\n",
        "\n",
        "import logging\n",
        "import sys\n",
        "from datetime import datetime\n",
        "from google.colab import files\n",
        "\n",
        "sys.path.append(\"/content/ProLink\")\n",
        "sys.path.append(\"/content/ProLink/ProLink\")\n",
        "print(\"Contenido de /content/ProLink:\", os.listdir(\"/content/ProLink\"))\n",
        "print(\"Contenido de /content/ProLink/ProLink:\", os.listdir(\"/content/ProLink/ProLink\"))\n",
        "\n",
        "try:\n",
        "    from ProLink.prolink import pro_link\n",
        "    print(\"✅ Importación exitosa de pro_link\")\n",
        "except ImportError as e:\n",
        "    print(\"❌ Error al importar pro_link:\", e)\n",
        "\n",
        "!python3 -m ProLink.prolink\n"
      ]
    },
    {
      "cell_type": "code",
      "execution_count": 47,
      "metadata": {
        "cellView": "form",
        "id": "hV5XubPQlsoE"
      },
      "outputs": [],
      "source": [
        "#@title Introduce the parameters\n",
        "\n",
        "parameters = dict()\n",
        "\n",
        "#@markdown ----QUERY PROTEINS (PROTEIN SEQUENCE CODES, COMMA SEPARATED)----\n",
        "query_proteins = \"ABQ62490.1\" #@param {type:\"string\"}\n",
        "query_proteins = query_proteins.replace(' ', '').split(',')\n",
        "\n",
        "#@markdown ----BLAST PARAMETERS----\n",
        "hitlist_size = 5000 #@param {type:\"integer\"}\n",
        "parameters['hitlist_size'] = hitlist_size\n",
        "\n",
        "blast_database = \"Reference Proteins (refseq_protein)\" #@param [\"Non redundant protein sequences (nr)\", \"Reference Proteins (refseq_protein)\", \"Model organisms (landmark)\", \"Protein Data Bank proteins (pdbaa)\"]\n",
        "parameters['blast_database'] = blast_database.split('(')[1].split(')')[0] # database name between parenthesis\n",
        "parameters['blast_local'] = parameters['blast_database'] in blast_db_local\n",
        "\n",
        "length_restrict = False #@param {type:\"boolean\"}\n",
        "parameters['length_restrict'] = length_restrict\n",
        "\n",
        "length_margin = 0.5 #@param {type:\"number\"}\n",
        "parameters['length_margin'] = length_margin\n",
        "\n",
        "include_low_identity_seqs = True #@param {type:\"boolean\"}\n",
        "parameters['include_low_identity_seqs'] = include_low_identity_seqs\n",
        "\n",
        "identity_blast = 0.25  # @param {type:\"number\"}\n",
        "parameters['identity_blast'] = identity_blast\n",
        "\n",
        "pro_blast_ = False #@param {type:\"boolean\"}\n",
        "parameters['pro_blast_'] = pro_blast_\n",
        "\n",
        "min_low_identity_seqs = 0 # @param {type:\"number\"}\n",
        "parameters['min_low_identity_seqs'] = min_low_identity_seqs\n",
        "\n",
        "#@markdown ----CLUSTERING----\n",
        "cluster_seqs = True #@param {type:\"boolean\"}\n",
        "parameters['cluster_seqs'] = cluster_seqs\n",
        "\n",
        "identity_cluster = 0.6 #@param {type:\"number\"} #Initial minimum sequence identity treshold to group the sequences into clusters.\n",
        "parameters['identity_cluster'] = identity_cluster\n",
        "\n",
        "pro_clustering_ = True #@param {type:\"boolean\"}\n",
        "parameters['pro_clustering_'] = pro_clustering_\n",
        "\n",
        "identity_cluster_step = 0.02 #@param {type:\"number\"} #Step to increase or decrease the minimum sequence identity threshold\n",
        "parameters['identity_cluster_step'] = identity_cluster_step\n",
        "\n",
        "min_number_clusters = 50 #@param {type:\"integer\"}\n",
        "parameters['min_number_clusters'] = min_number_clusters\n",
        "\n",
        "max_number_clusters = 300 #@param {type:\"integer\"}\n",
        "parameters['max_number_clusters'] = max_number_clusters\n",
        "\n",
        "#@markdown ----PFAM DOMAINS----\n",
        "check_pfam_domains = True #@param {type:\"boolean\"}\n",
        "parameters['check_pfam_domains'] = check_pfam_domains\n",
        "\n",
        "#@markdown ----ALIGNMENT----\n",
        "align_seqs = True #@param {type:\"boolean\"}\n",
        "parameters['align_seqs'] = align_seqs\n",
        "\n",
        "trim = False #@param {type:\"boolean\"}\n",
        "parameters['trim'] = trim\n",
        "\n",
        "#@markdown ----SEQUENCE LOGO GENERATION----\n",
        "generate_logo = True #@param {type:\"boolean\"}\n",
        "parameters['generate_logo'] = generate_logo\n",
        "\n",
        "#@markdown ----PHYLOGENETIC TREE GENERATION----\n",
        "generate_tree = True #@param {type:\"boolean\"}\n",
        "parameters['generate_tree'] = generate_tree\n",
        "\n",
        "tree_type = \"NJ\" #@param [\"NJ\", \"ML\"]\n",
        "parameters['tree_type'] = tree_type\n",
        "\n",
        "bootstrap_replications = \"250\" #@param [\"100\", \"250\", \"500\", \"1000\", \"2000\", \"5000\"]\n",
        "parameters['boostrap_replications'] = bootstrap_replications\n",
        "\n",
        "#@markdown For more advanced options, please feel free to edit the ProLink/parameters.yaml file."
      ]
    },
    {
      "cell_type": "code",
      "execution_count": 46,
      "metadata": {
        "id": "nPrQFUbclsoF",
        "outputId": "b613c7ca-76be-4bfe-e618-0e99108a1d0d",
        "colab": {
          "base_uri": "https://localhost:8080/",
          "height": 176
        }
      },
      "outputs": [
        {
          "output_type": "error",
          "ename": "NameError",
          "evalue": "name 'pro_link' is not defined",
          "traceback": [
            "\u001b[0;31m---------------------------------------------------------------------------\u001b[0m",
            "\u001b[0;31mNameError\u001b[0m                                 Traceback (most recent call last)",
            "\u001b[0;32m<ipython-input-46-cbcc2a4995d8>\u001b[0m in \u001b[0;36m<cell line: 0>\u001b[0;34m()\u001b[0m\n\u001b[1;32m     23\u001b[0m \u001b[0;34m\u001b[0m\u001b[0m\n\u001b[1;32m     24\u001b[0m \u001b[0;31m# main script\u001b[0m\u001b[0;34m\u001b[0m\u001b[0;34m\u001b[0m\u001b[0m\n\u001b[0;32m---> 25\u001b[0;31m \u001b[0mpro_link\u001b[0m\u001b[0;34m(\u001b[0m\u001b[0mquery_proteins\u001b[0m\u001b[0;34m,\u001b[0m \u001b[0;34m**\u001b[0m\u001b[0mparameters\u001b[0m\u001b[0;34m)\u001b[0m\u001b[0;34m\u001b[0m\u001b[0;34m\u001b[0m\u001b[0m\n\u001b[0m",
            "\u001b[0;31mNameError\u001b[0m: name 'pro_link' is not defined"
          ]
        }
      ],
      "source": [
        "#@title Execute the script\n",
        "#@markdown Running the script (This may take a while)\n",
        "\n",
        "extra_verbose = False #@param {type:\"boolean\"}\n",
        "\n",
        "# outputs directory\n",
        "now = datetime.now().strftime(\"%Y%m%d-%H.%M.%S\")\n",
        "outputs_dir = f\"outputs_{now}\"\n",
        "outputs_zip = f\"ProLink_{outputs_dir}.zip\"\n",
        "os.makedirs(f'/content/{outputs_dir}', exist_ok=True)\n",
        "os.chdir(f'/content/{outputs_dir}')\n",
        "\n",
        "# re-configure logging to override colab settings\n",
        "logging.basicConfig(\n",
        "    level = logging.DEBUG if extra_verbose else logging.INFO,\n",
        "    format = '%(message)s',\n",
        "    handlers = [\n",
        "        logging.FileHandler(f'ProLink.log', mode='w'),\n",
        "        logging.StreamHandler()\n",
        "        ],\n",
        "    force = True\n",
        "    )\n",
        "\n",
        "# main script\n",
        "pro_link(query_proteins, **parameters)"
      ]
    },
    {
      "cell_type": "code",
      "execution_count": null,
      "metadata": {
        "cellView": "form",
        "id": "gXMXyGO_lsoF"
      },
      "outputs": [],
      "source": [
        "#@title Download outputs\n",
        "#@markdown Run the cell to download the results as a zip\n",
        "\n",
        "!zip -r ../$outputs_zip *\n",
        "files.download(f\"../{outputs_zip}\")"
      ]
    }
  ],
  "metadata": {
    "colab": {
      "provenance": [],
      "include_colab_link": true
    },
    "gpuClass": "standard",
    "kernelspec": {
      "display_name": "Python 3",
      "language": "python",
      "name": "python3"
    },
    "language_info": {
      "name": "python",
      "version": "3.10.6 (main, Nov 14 2022, 16:10:14) [GCC 11.3.0]"
    },
    "vscode": {
      "interpreter": {
        "hash": "916dbcbb3f70747c44a77c7bcd40155683ae19c65e1c03b4aa3499c5328201f1"
      }
    }
  },
  "nbformat": 4,
  "nbformat_minor": 0
}